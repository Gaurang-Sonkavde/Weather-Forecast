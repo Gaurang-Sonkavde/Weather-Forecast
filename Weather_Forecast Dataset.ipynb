{
 "cells": [
  {
   "cell_type": "code",
   "execution_count": 1,
   "metadata": {},
   "outputs": [],
   "source": [
    "import numpy as np\n",
    "import pandas as pd\n",
    "import seaborn as sns\n",
    "import sklearn\n",
    "from sklearn.preprocessing import StandardScaler\n",
    "from statsmodels.stats.outliers_influence import variance_inflation_factor\n",
    "from sklearn.metrics import accuracy_score, confusion_matrix, roc_curve, roc_auc_score\n",
    "import matplotlib.pyplot as plt\n",
    "%matplotlib inline"
   ]
  },
  {
   "cell_type": "code",
   "execution_count": 2,
   "metadata": {},
   "outputs": [],
   "source": [
    "import os"
   ]
  },
  {
   "cell_type": "code",
   "execution_count": 3,
   "metadata": {},
   "outputs": [],
   "source": [
    "os.chdir(r'C:\\Users\\gaura\\OneDrive\\Desktop')"
   ]
  },
  {
   "cell_type": "code",
   "execution_count": 4,
   "metadata": {},
   "outputs": [],
   "source": [
    "df=pd.read_csv('forecast_data.csv')"
   ]
  },
  {
   "cell_type": "code",
   "execution_count": 5,
   "metadata": {},
   "outputs": [
    {
     "data": {
      "text/html": [
       "<div>\n",
       "<style scoped>\n",
       "    .dataframe tbody tr th:only-of-type {\n",
       "        vertical-align: middle;\n",
       "    }\n",
       "\n",
       "    .dataframe tbody tr th {\n",
       "        vertical-align: top;\n",
       "    }\n",
       "\n",
       "    .dataframe thead th {\n",
       "        text-align: right;\n",
       "    }\n",
       "</style>\n",
       "<table border=\"1\" class=\"dataframe\">\n",
       "  <thead>\n",
       "    <tr style=\"text-align: right;\">\n",
       "      <th></th>\n",
       "      <th>Name</th>\n",
       "      <th>Date</th>\n",
       "      <th>time</th>\n",
       "      <th>Maximum_Temperature</th>\n",
       "      <th>Minimum_Temperature</th>\n",
       "      <th>Temperature</th>\n",
       "      <th>Wind_Speed</th>\n",
       "      <th>Wind_Direction</th>\n",
       "      <th>Cloud_Cover</th>\n",
       "      <th>Relative_Humidity</th>\n",
       "      <th>Conditions</th>\n",
       "    </tr>\n",
       "  </thead>\n",
       "  <tbody>\n",
       "    <tr>\n",
       "      <th>0</th>\n",
       "      <td>Pune, MH, India</td>\n",
       "      <td>feb 17 2021</td>\n",
       "      <td>06:30:00</td>\n",
       "      <td>87.3</td>\n",
       "      <td>85.0</td>\n",
       "      <td>86.3</td>\n",
       "      <td>2.6</td>\n",
       "      <td>29.2</td>\n",
       "      <td>10.3</td>\n",
       "      <td>22.3</td>\n",
       "      <td>Clear</td>\n",
       "    </tr>\n",
       "    <tr>\n",
       "      <th>1</th>\n",
       "      <td>Pune, MH, India</td>\n",
       "      <td>feb 17 2021</td>\n",
       "      <td>18:30:00</td>\n",
       "      <td>80.5</td>\n",
       "      <td>66.8</td>\n",
       "      <td>70.0</td>\n",
       "      <td>4.1</td>\n",
       "      <td>52.9</td>\n",
       "      <td>45.8</td>\n",
       "      <td>56.0</td>\n",
       "      <td>Partially cloudy</td>\n",
       "    </tr>\n",
       "    <tr>\n",
       "      <th>2</th>\n",
       "      <td>Pune, MH, India</td>\n",
       "      <td>feb 18 2021</td>\n",
       "      <td>06:30:00</td>\n",
       "      <td>87.7</td>\n",
       "      <td>66.6</td>\n",
       "      <td>77.7</td>\n",
       "      <td>9.9</td>\n",
       "      <td>49.3</td>\n",
       "      <td>69.1</td>\n",
       "      <td>35.8</td>\n",
       "      <td>Partially cloudy</td>\n",
       "    </tr>\n",
       "    <tr>\n",
       "      <th>3</th>\n",
       "      <td>Pune, MH, India</td>\n",
       "      <td>feb 18 2021</td>\n",
       "      <td>18:30:00</td>\n",
       "      <td>73.1</td>\n",
       "      <td>67.2</td>\n",
       "      <td>70.4</td>\n",
       "      <td>7.5</td>\n",
       "      <td>62.9</td>\n",
       "      <td>93.7</td>\n",
       "      <td>49.2</td>\n",
       "      <td>Overcast</td>\n",
       "    </tr>\n",
       "    <tr>\n",
       "      <th>4</th>\n",
       "      <td>Pune, MH, India</td>\n",
       "      <td>feb 19 2021</td>\n",
       "      <td>06:30:00</td>\n",
       "      <td>84.3</td>\n",
       "      <td>64.3</td>\n",
       "      <td>76.2</td>\n",
       "      <td>10.8</td>\n",
       "      <td>71.3</td>\n",
       "      <td>76.1</td>\n",
       "      <td>43.4</td>\n",
       "      <td>Overcast</td>\n",
       "    </tr>\n",
       "    <tr>\n",
       "      <th>5</th>\n",
       "      <td>Pune, MH, India</td>\n",
       "      <td>feb 19 2021</td>\n",
       "      <td>18:30:00</td>\n",
       "      <td>77.8</td>\n",
       "      <td>67.7</td>\n",
       "      <td>69.6</td>\n",
       "      <td>5.0</td>\n",
       "      <td>69.4</td>\n",
       "      <td>34.1</td>\n",
       "      <td>50.4</td>\n",
       "      <td>Partially cloudy</td>\n",
       "    </tr>\n",
       "    <tr>\n",
       "      <th>6</th>\n",
       "      <td>Pune, MH, India</td>\n",
       "      <td>feb 20 2021</td>\n",
       "      <td>06:30:00</td>\n",
       "      <td>85.2</td>\n",
       "      <td>66.6</td>\n",
       "      <td>78.7</td>\n",
       "      <td>7.8</td>\n",
       "      <td>77.2</td>\n",
       "      <td>58.0</td>\n",
       "      <td>31.4</td>\n",
       "      <td>Partially cloudy</td>\n",
       "    </tr>\n",
       "    <tr>\n",
       "      <th>7</th>\n",
       "      <td>Pune, MH, India</td>\n",
       "      <td>feb 20 2021</td>\n",
       "      <td>18:30:00</td>\n",
       "      <td>78.3</td>\n",
       "      <td>66.1</td>\n",
       "      <td>70.5</td>\n",
       "      <td>2.9</td>\n",
       "      <td>59.0</td>\n",
       "      <td>13.3</td>\n",
       "      <td>38.1</td>\n",
       "      <td>Clear</td>\n",
       "    </tr>\n",
       "    <tr>\n",
       "      <th>8</th>\n",
       "      <td>Pune, MH, India</td>\n",
       "      <td>feb 21 2021</td>\n",
       "      <td>06:30:00</td>\n",
       "      <td>88.1</td>\n",
       "      <td>66.5</td>\n",
       "      <td>81.2</td>\n",
       "      <td>7.0</td>\n",
       "      <td>74.4</td>\n",
       "      <td>8.3</td>\n",
       "      <td>25.4</td>\n",
       "      <td>Clear</td>\n",
       "    </tr>\n",
       "    <tr>\n",
       "      <th>9</th>\n",
       "      <td>Pune, MH, India</td>\n",
       "      <td>feb 21 2021</td>\n",
       "      <td>18:30:00</td>\n",
       "      <td>82.1</td>\n",
       "      <td>67.2</td>\n",
       "      <td>72.2</td>\n",
       "      <td>2.6</td>\n",
       "      <td>56.3</td>\n",
       "      <td>7.2</td>\n",
       "      <td>33.2</td>\n",
       "      <td>Clear</td>\n",
       "    </tr>\n",
       "    <tr>\n",
       "      <th>10</th>\n",
       "      <td>Pune, MH, India</td>\n",
       "      <td>feb 22 2021</td>\n",
       "      <td>06:30:00</td>\n",
       "      <td>89.7</td>\n",
       "      <td>69.3</td>\n",
       "      <td>82.6</td>\n",
       "      <td>4.7</td>\n",
       "      <td>66.2</td>\n",
       "      <td>7.3</td>\n",
       "      <td>22.8</td>\n",
       "      <td>Clear</td>\n",
       "    </tr>\n",
       "    <tr>\n",
       "      <th>11</th>\n",
       "      <td>Pune, MH, India</td>\n",
       "      <td>feb 22 2021</td>\n",
       "      <td>18:30:00</td>\n",
       "      <td>84.6</td>\n",
       "      <td>69.2</td>\n",
       "      <td>74.2</td>\n",
       "      <td>3.3</td>\n",
       "      <td>59.6</td>\n",
       "      <td>0.0</td>\n",
       "      <td>28.8</td>\n",
       "      <td>Clear</td>\n",
       "    </tr>\n",
       "    <tr>\n",
       "      <th>12</th>\n",
       "      <td>Pune, MH, India</td>\n",
       "      <td>feb 23 2021</td>\n",
       "      <td>06:30:00</td>\n",
       "      <td>91.1</td>\n",
       "      <td>71.6</td>\n",
       "      <td>84.6</td>\n",
       "      <td>4.9</td>\n",
       "      <td>68.5</td>\n",
       "      <td>0.0</td>\n",
       "      <td>19.9</td>\n",
       "      <td>Clear</td>\n",
       "    </tr>\n",
       "    <tr>\n",
       "      <th>13</th>\n",
       "      <td>Pune, MH, India</td>\n",
       "      <td>feb 23 2021</td>\n",
       "      <td>18:30:00</td>\n",
       "      <td>87.2</td>\n",
       "      <td>69.9</td>\n",
       "      <td>75.8</td>\n",
       "      <td>1.9</td>\n",
       "      <td>64.3</td>\n",
       "      <td>0.0</td>\n",
       "      <td>26.4</td>\n",
       "      <td>Clear</td>\n",
       "    </tr>\n",
       "    <tr>\n",
       "      <th>14</th>\n",
       "      <td>Pune, MH, India</td>\n",
       "      <td>feb 24  2021</td>\n",
       "      <td>06:30:00</td>\n",
       "      <td>94.2</td>\n",
       "      <td>72.1</td>\n",
       "      <td>86.1</td>\n",
       "      <td>3.3</td>\n",
       "      <td>54.6</td>\n",
       "      <td>0.0</td>\n",
       "      <td>18.1</td>\n",
       "      <td>Clear</td>\n",
       "    </tr>\n",
       "    <tr>\n",
       "      <th>15</th>\n",
       "      <td>Pune, MH, India</td>\n",
       "      <td>feb 24 2021</td>\n",
       "      <td>18:30:00</td>\n",
       "      <td>87.3</td>\n",
       "      <td>69.3</td>\n",
       "      <td>75.1</td>\n",
       "      <td>3.8</td>\n",
       "      <td>82.1</td>\n",
       "      <td>0.0</td>\n",
       "      <td>29.4</td>\n",
       "      <td>Clear</td>\n",
       "    </tr>\n",
       "    <tr>\n",
       "      <th>16</th>\n",
       "      <td>Pune, MH, India</td>\n",
       "      <td>feb 25 2021</td>\n",
       "      <td>06:30:00</td>\n",
       "      <td>93.6</td>\n",
       "      <td>71.4</td>\n",
       "      <td>84.9</td>\n",
       "      <td>7.7</td>\n",
       "      <td>51.7</td>\n",
       "      <td>0.0</td>\n",
       "      <td>20.4</td>\n",
       "      <td>Clear</td>\n",
       "    </tr>\n",
       "    <tr>\n",
       "      <th>17</th>\n",
       "      <td>Pune, MH, India</td>\n",
       "      <td>feb 25 2021</td>\n",
       "      <td>18:30:00</td>\n",
       "      <td>84.5</td>\n",
       "      <td>67.4</td>\n",
       "      <td>73.2</td>\n",
       "      <td>6.4</td>\n",
       "      <td>69.5</td>\n",
       "      <td>0.0</td>\n",
       "      <td>33.4</td>\n",
       "      <td>Clear</td>\n",
       "    </tr>\n",
       "    <tr>\n",
       "      <th>18</th>\n",
       "      <td>Pune, MH, India</td>\n",
       "      <td>feb 26 2021</td>\n",
       "      <td>06:30:00</td>\n",
       "      <td>90.4</td>\n",
       "      <td>69.5</td>\n",
       "      <td>83.0</td>\n",
       "      <td>9.4</td>\n",
       "      <td>45.6</td>\n",
       "      <td>0.0</td>\n",
       "      <td>23.4</td>\n",
       "      <td>Clear</td>\n",
       "    </tr>\n",
       "    <tr>\n",
       "      <th>19</th>\n",
       "      <td>Pune, MH, India</td>\n",
       "      <td>feb 26 2021</td>\n",
       "      <td>18:30:00</td>\n",
       "      <td>81.9</td>\n",
       "      <td>63.6</td>\n",
       "      <td>70.2</td>\n",
       "      <td>5.0</td>\n",
       "      <td>72.6</td>\n",
       "      <td>0.0</td>\n",
       "      <td>32.0</td>\n",
       "      <td>Clear</td>\n",
       "    </tr>\n",
       "    <tr>\n",
       "      <th>20</th>\n",
       "      <td>Pune, MH, India</td>\n",
       "      <td>feb 27 2021</td>\n",
       "      <td>06:30:00</td>\n",
       "      <td>92.2</td>\n",
       "      <td>65.8</td>\n",
       "      <td>81.8</td>\n",
       "      <td>3.7</td>\n",
       "      <td>54.9</td>\n",
       "      <td>0.0</td>\n",
       "      <td>18.7</td>\n",
       "      <td>Clear</td>\n",
       "    </tr>\n",
       "    <tr>\n",
       "      <th>21</th>\n",
       "      <td>Pune, MH, India</td>\n",
       "      <td>feb 27 2021</td>\n",
       "      <td>18:30:00</td>\n",
       "      <td>85.7</td>\n",
       "      <td>68.4</td>\n",
       "      <td>73.7</td>\n",
       "      <td>2.6</td>\n",
       "      <td>45.3</td>\n",
       "      <td>0.0</td>\n",
       "      <td>26.3</td>\n",
       "      <td>Clear</td>\n",
       "    </tr>\n",
       "    <tr>\n",
       "      <th>22</th>\n",
       "      <td>Pune, MH, India</td>\n",
       "      <td>feb 28 2021</td>\n",
       "      <td>06:30:00</td>\n",
       "      <td>93.6</td>\n",
       "      <td>71.4</td>\n",
       "      <td>86.3</td>\n",
       "      <td>5.2</td>\n",
       "      <td>69.4</td>\n",
       "      <td>0.0</td>\n",
       "      <td>14.4</td>\n",
       "      <td>Clear</td>\n",
       "    </tr>\n",
       "    <tr>\n",
       "      <th>23</th>\n",
       "      <td>Pune, MH, India</td>\n",
       "      <td>feb 28 2021</td>\n",
       "      <td>18:30:00</td>\n",
       "      <td>87.4</td>\n",
       "      <td>69.2</td>\n",
       "      <td>74.8</td>\n",
       "      <td>3.5</td>\n",
       "      <td>74.0</td>\n",
       "      <td>0.0</td>\n",
       "      <td>25.8</td>\n",
       "      <td>Clear</td>\n",
       "    </tr>\n",
       "  </tbody>\n",
       "</table>\n",
       "</div>"
      ],
      "text/plain": [
       "               Name          Date      time  Maximum_Temperature  \\\n",
       "0   Pune, MH, India  feb 17 2021   06:30:00                 87.3   \n",
       "1   Pune, MH, India  feb 17 2021   18:30:00                 80.5   \n",
       "2   Pune, MH, India  feb 18 2021   06:30:00                 87.7   \n",
       "3   Pune, MH, India  feb 18 2021   18:30:00                 73.1   \n",
       "4   Pune, MH, India  feb 19 2021   06:30:00                 84.3   \n",
       "5   Pune, MH, India  feb 19 2021   18:30:00                 77.8   \n",
       "6   Pune, MH, India  feb 20 2021   06:30:00                 85.2   \n",
       "7   Pune, MH, India  feb 20 2021   18:30:00                 78.3   \n",
       "8   Pune, MH, India  feb 21 2021   06:30:00                 88.1   \n",
       "9   Pune, MH, India  feb 21 2021   18:30:00                 82.1   \n",
       "10  Pune, MH, India  feb 22 2021   06:30:00                 89.7   \n",
       "11  Pune, MH, India  feb 22 2021   18:30:00                 84.6   \n",
       "12  Pune, MH, India   feb 23 2021  06:30:00                 91.1   \n",
       "13  Pune, MH, India  feb 23 2021   18:30:00                 87.2   \n",
       "14  Pune, MH, India  feb 24  2021  06:30:00                 94.2   \n",
       "15  Pune, MH, India  feb 24 2021   18:30:00                 87.3   \n",
       "16  Pune, MH, India  feb 25 2021   06:30:00                 93.6   \n",
       "17  Pune, MH, India  feb 25 2021   18:30:00                 84.5   \n",
       "18  Pune, MH, India  feb 26 2021   06:30:00                 90.4   \n",
       "19  Pune, MH, India  feb 26 2021   18:30:00                 81.9   \n",
       "20  Pune, MH, India  feb 27 2021   06:30:00                 92.2   \n",
       "21  Pune, MH, India   feb 27 2021  18:30:00                 85.7   \n",
       "22  Pune, MH, India   feb 28 2021  06:30:00                 93.6   \n",
       "23  Pune, MH, India  feb 28 2021   18:30:00                 87.4   \n",
       "\n",
       "    Minimum_Temperature  Temperature  Wind_Speed  Wind_Direction  Cloud_Cover  \\\n",
       "0                  85.0         86.3         2.6            29.2         10.3   \n",
       "1                  66.8         70.0         4.1            52.9         45.8   \n",
       "2                  66.6         77.7         9.9            49.3         69.1   \n",
       "3                  67.2         70.4         7.5            62.9         93.7   \n",
       "4                  64.3         76.2        10.8            71.3         76.1   \n",
       "5                  67.7         69.6         5.0            69.4         34.1   \n",
       "6                  66.6         78.7         7.8            77.2         58.0   \n",
       "7                  66.1         70.5         2.9            59.0         13.3   \n",
       "8                  66.5         81.2         7.0            74.4          8.3   \n",
       "9                  67.2         72.2         2.6            56.3          7.2   \n",
       "10                 69.3         82.6         4.7            66.2          7.3   \n",
       "11                 69.2         74.2         3.3            59.6          0.0   \n",
       "12                 71.6         84.6         4.9            68.5          0.0   \n",
       "13                 69.9         75.8         1.9            64.3          0.0   \n",
       "14                 72.1         86.1         3.3            54.6          0.0   \n",
       "15                 69.3         75.1         3.8            82.1          0.0   \n",
       "16                 71.4         84.9         7.7            51.7          0.0   \n",
       "17                 67.4         73.2         6.4            69.5          0.0   \n",
       "18                 69.5         83.0         9.4            45.6          0.0   \n",
       "19                 63.6         70.2         5.0            72.6          0.0   \n",
       "20                 65.8         81.8         3.7            54.9          0.0   \n",
       "21                 68.4         73.7         2.6            45.3          0.0   \n",
       "22                 71.4         86.3         5.2            69.4          0.0   \n",
       "23                 69.2         74.8         3.5            74.0          0.0   \n",
       "\n",
       "    Relative_Humidity        Conditions  \n",
       "0                22.3             Clear  \n",
       "1                56.0  Partially cloudy  \n",
       "2                35.8  Partially cloudy  \n",
       "3                49.2          Overcast  \n",
       "4                43.4          Overcast  \n",
       "5                50.4  Partially cloudy  \n",
       "6                31.4  Partially cloudy  \n",
       "7                38.1             Clear  \n",
       "8                25.4             Clear  \n",
       "9                33.2             Clear  \n",
       "10               22.8             Clear  \n",
       "11               28.8             Clear  \n",
       "12               19.9             Clear  \n",
       "13               26.4             Clear  \n",
       "14               18.1             Clear  \n",
       "15               29.4             Clear  \n",
       "16               20.4             Clear  \n",
       "17               33.4             Clear  \n",
       "18               23.4             Clear  \n",
       "19               32.0             Clear  \n",
       "20               18.7             Clear  \n",
       "21               26.3             Clear  \n",
       "22               14.4             Clear  \n",
       "23               25.8             Clear  "
      ]
     },
     "execution_count": 5,
     "metadata": {},
     "output_type": "execute_result"
    }
   ],
   "source": [
    "df"
   ]
  },
  {
   "cell_type": "code",
   "execution_count": 6,
   "metadata": {},
   "outputs": [
    {
     "data": {
      "text/plain": [
       "Name                   0\n",
       "Date                   0\n",
       "time                   0\n",
       "Maximum_Temperature    0\n",
       "Minimum_Temperature    0\n",
       "Temperature            0\n",
       "Wind_Speed             0\n",
       "Wind_Direction         0\n",
       "Cloud_Cover            0\n",
       "Relative_Humidity      0\n",
       "Conditions             0\n",
       "dtype: int64"
      ]
     },
     "execution_count": 6,
     "metadata": {},
     "output_type": "execute_result"
    }
   ],
   "source": [
    "df.isnull().sum()"
   ]
  },
  {
   "cell_type": "code",
   "execution_count": 7,
   "metadata": {},
   "outputs": [
    {
     "data": {
      "text/html": [
       "<div>\n",
       "<style scoped>\n",
       "    .dataframe tbody tr th:only-of-type {\n",
       "        vertical-align: middle;\n",
       "    }\n",
       "\n",
       "    .dataframe tbody tr th {\n",
       "        vertical-align: top;\n",
       "    }\n",
       "\n",
       "    .dataframe thead th {\n",
       "        text-align: right;\n",
       "    }\n",
       "</style>\n",
       "<table border=\"1\" class=\"dataframe\">\n",
       "  <thead>\n",
       "    <tr style=\"text-align: right;\">\n",
       "      <th></th>\n",
       "      <th>Maximum_Temperature</th>\n",
       "      <th>Minimum_Temperature</th>\n",
       "      <th>Temperature</th>\n",
       "      <th>Wind_Speed</th>\n",
       "      <th>Wind_Direction</th>\n",
       "      <th>Cloud_Cover</th>\n",
       "      <th>Relative_Humidity</th>\n",
       "    </tr>\n",
       "  </thead>\n",
       "  <tbody>\n",
       "    <tr>\n",
       "      <th>count</th>\n",
       "      <td>24.000000</td>\n",
       "      <td>24.00000</td>\n",
       "      <td>24.000000</td>\n",
       "      <td>24.000000</td>\n",
       "      <td>24.000000</td>\n",
       "      <td>24.000000</td>\n",
       "      <td>24.000000</td>\n",
       "    </tr>\n",
       "    <tr>\n",
       "      <th>mean</th>\n",
       "      <td>86.158333</td>\n",
       "      <td>68.83750</td>\n",
       "      <td>77.462500</td>\n",
       "      <td>5.233333</td>\n",
       "      <td>61.675000</td>\n",
       "      <td>17.633333</td>\n",
       "      <td>30.208333</td>\n",
       "    </tr>\n",
       "    <tr>\n",
       "      <th>std</th>\n",
       "      <td>5.343742</td>\n",
       "      <td>4.10819</td>\n",
       "      <td>5.841368</td>\n",
       "      <td>2.523398</td>\n",
       "      <td>12.313275</td>\n",
       "      <td>28.715042</td>\n",
       "      <td>10.824887</td>\n",
       "    </tr>\n",
       "    <tr>\n",
       "      <th>min</th>\n",
       "      <td>73.100000</td>\n",
       "      <td>63.60000</td>\n",
       "      <td>69.600000</td>\n",
       "      <td>1.900000</td>\n",
       "      <td>29.200000</td>\n",
       "      <td>0.000000</td>\n",
       "      <td>14.400000</td>\n",
       "    </tr>\n",
       "    <tr>\n",
       "      <th>25%</th>\n",
       "      <td>83.750000</td>\n",
       "      <td>66.60000</td>\n",
       "      <td>72.950000</td>\n",
       "      <td>3.300000</td>\n",
       "      <td>54.175000</td>\n",
       "      <td>0.000000</td>\n",
       "      <td>22.675000</td>\n",
       "    </tr>\n",
       "    <tr>\n",
       "      <th>50%</th>\n",
       "      <td>87.250000</td>\n",
       "      <td>68.05000</td>\n",
       "      <td>76.000000</td>\n",
       "      <td>4.800000</td>\n",
       "      <td>63.600000</td>\n",
       "      <td>0.000000</td>\n",
       "      <td>27.600000</td>\n",
       "    </tr>\n",
       "    <tr>\n",
       "      <th>75%</th>\n",
       "      <td>89.875000</td>\n",
       "      <td>69.60000</td>\n",
       "      <td>82.700000</td>\n",
       "      <td>7.125000</td>\n",
       "      <td>69.950000</td>\n",
       "      <td>18.500000</td>\n",
       "      <td>34.000000</td>\n",
       "    </tr>\n",
       "    <tr>\n",
       "      <th>max</th>\n",
       "      <td>94.200000</td>\n",
       "      <td>85.00000</td>\n",
       "      <td>86.300000</td>\n",
       "      <td>10.800000</td>\n",
       "      <td>82.100000</td>\n",
       "      <td>93.700000</td>\n",
       "      <td>56.000000</td>\n",
       "    </tr>\n",
       "  </tbody>\n",
       "</table>\n",
       "</div>"
      ],
      "text/plain": [
       "       Maximum_Temperature  Minimum_Temperature  Temperature  Wind_Speed  \\\n",
       "count            24.000000             24.00000    24.000000   24.000000   \n",
       "mean             86.158333             68.83750    77.462500    5.233333   \n",
       "std               5.343742              4.10819     5.841368    2.523398   \n",
       "min              73.100000             63.60000    69.600000    1.900000   \n",
       "25%              83.750000             66.60000    72.950000    3.300000   \n",
       "50%              87.250000             68.05000    76.000000    4.800000   \n",
       "75%              89.875000             69.60000    82.700000    7.125000   \n",
       "max              94.200000             85.00000    86.300000   10.800000   \n",
       "\n",
       "       Wind_Direction  Cloud_Cover  Relative_Humidity  \n",
       "count       24.000000    24.000000          24.000000  \n",
       "mean        61.675000    17.633333          30.208333  \n",
       "std         12.313275    28.715042          10.824887  \n",
       "min         29.200000     0.000000          14.400000  \n",
       "25%         54.175000     0.000000          22.675000  \n",
       "50%         63.600000     0.000000          27.600000  \n",
       "75%         69.950000    18.500000          34.000000  \n",
       "max         82.100000    93.700000          56.000000  "
      ]
     },
     "execution_count": 7,
     "metadata": {},
     "output_type": "execute_result"
    }
   ],
   "source": [
    "df.describe()"
   ]
  },
  {
   "cell_type": "code",
   "execution_count": 8,
   "metadata": {},
   "outputs": [
    {
     "name": "stdout",
     "output_type": "stream",
     "text": [
      "              Name          Date      time  Maximum_Temperature  \\\n",
      "0  Pune, MH, India  feb 17 2021   06:30:00                 87.3   \n",
      "1  Pune, MH, India  feb 17 2021   18:30:00                 80.5   \n",
      "2  Pune, MH, India  feb 18 2021   06:30:00                 87.7   \n",
      "3  Pune, MH, India  feb 18 2021   18:30:00                 73.1   \n",
      "4  Pune, MH, India  feb 19 2021   06:30:00                 84.3   \n",
      "\n",
      "   Minimum_Temperature  Temperature  Wind_Speed  Wind_Direction  Cloud_Cover  \\\n",
      "0                 85.0         86.3         2.6            29.2         10.3   \n",
      "1                 66.8         70.0         4.1            52.9         45.8   \n",
      "2                 66.6         77.7         9.9            49.3         69.1   \n",
      "3                 67.2         70.4         7.5            62.9         93.7   \n",
      "4                 64.3         76.2        10.8            71.3         76.1   \n",
      "\n",
      "   Relative_Humidity        Conditions  \n",
      "0               22.3             Clear  \n",
      "1               56.0  Partially cloudy  \n",
      "2               35.8  Partially cloudy  \n",
      "3               49.2          Overcast  \n",
      "4               43.4          Overcast  \n"
     ]
    }
   ],
   "source": [
    "print(df.head())"
   ]
  },
  {
   "cell_type": "code",
   "execution_count": 9,
   "metadata": {},
   "outputs": [
    {
     "name": "stdout",
     "output_type": "stream",
     "text": [
      "               Name          Date      time  Maximum_Temperature  \\\n",
      "19  Pune, MH, India  feb 26 2021   18:30:00                 81.9   \n",
      "20  Pune, MH, India  feb 27 2021   06:30:00                 92.2   \n",
      "21  Pune, MH, India   feb 27 2021  18:30:00                 85.7   \n",
      "22  Pune, MH, India   feb 28 2021  06:30:00                 93.6   \n",
      "23  Pune, MH, India  feb 28 2021   18:30:00                 87.4   \n",
      "\n",
      "    Minimum_Temperature  Temperature  Wind_Speed  Wind_Direction  Cloud_Cover  \\\n",
      "19                 63.6         70.2         5.0            72.6          0.0   \n",
      "20                 65.8         81.8         3.7            54.9          0.0   \n",
      "21                 68.4         73.7         2.6            45.3          0.0   \n",
      "22                 71.4         86.3         5.2            69.4          0.0   \n",
      "23                 69.2         74.8         3.5            74.0          0.0   \n",
      "\n",
      "    Relative_Humidity Conditions  \n",
      "19               32.0      Clear  \n",
      "20               18.7      Clear  \n",
      "21               26.3      Clear  \n",
      "22               14.4      Clear  \n",
      "23               25.8      Clear  \n"
     ]
    }
   ],
   "source": [
    "print(df.tail())"
   ]
  },
  {
   "cell_type": "code",
   "execution_count": 10,
   "metadata": {},
   "outputs": [
    {
     "name": "stdout",
     "output_type": "stream",
     "text": [
      "86.3    2\n",
      "72.2    1\n",
      "74.2    1\n",
      "70.5    1\n",
      "83.0    1\n",
      "74.8    1\n",
      "86.1    1\n",
      "78.7    1\n",
      "70.2    1\n",
      "75.1    1\n",
      "77.7    1\n",
      "75.8    1\n",
      "84.6    1\n",
      "84.9    1\n",
      "81.2    1\n",
      "73.7    1\n",
      "81.8    1\n",
      "69.6    1\n",
      "70.4    1\n",
      "76.2    1\n",
      "73.2    1\n",
      "82.6    1\n",
      "70.0    1\n",
      "Name: Temperature, dtype: int64\n"
     ]
    }
   ],
   "source": [
    "print(df['Temperature'].value_counts())"
   ]
  },
  {
   "cell_type": "code",
   "execution_count": 11,
   "metadata": {},
   "outputs": [],
   "source": [
    "df['Temperature'] = [0 if x == '<=60' else 1 for x in df['Temperature']]\n",
    "X = df.drop('Temperature', 1)\n",
    "Y = df.Temperature"
   ]
  },
  {
   "cell_type": "code",
   "execution_count": 12,
   "metadata": {},
   "outputs": [
    {
     "name": "stdout",
     "output_type": "stream",
     "text": [
      "              Name          Date      time  Maximum_Temperature  \\\n",
      "0  Pune, MH, India  feb 17 2021   06:30:00                 87.3   \n",
      "1  Pune, MH, India  feb 17 2021   18:30:00                 80.5   \n",
      "2  Pune, MH, India  feb 18 2021   06:30:00                 87.7   \n",
      "3  Pune, MH, India  feb 18 2021   18:30:00                 73.1   \n",
      "4  Pune, MH, India  feb 19 2021   06:30:00                 84.3   \n",
      "\n",
      "   Minimum_Temperature  Wind_Speed  Wind_Direction  Cloud_Cover  \\\n",
      "0                 85.0         2.6            29.2         10.3   \n",
      "1                 66.8         4.1            52.9         45.8   \n",
      "2                 66.6         9.9            49.3         69.1   \n",
      "3                 67.2         7.5            62.9         93.7   \n",
      "4                 64.3        10.8            71.3         76.1   \n",
      "\n",
      "   Relative_Humidity        Conditions  \n",
      "0               22.3             Clear  \n",
      "1               56.0  Partially cloudy  \n",
      "2               35.8  Partially cloudy  \n",
      "3               49.2          Overcast  \n",
      "4               43.4          Overcast  \n"
     ]
    }
   ],
   "source": [
    "print(X.head())"
   ]
  },
  {
   "cell_type": "code",
   "execution_count": 13,
   "metadata": {},
   "outputs": [
    {
     "name": "stdout",
     "output_type": "stream",
     "text": [
      "0    1\n",
      "1    1\n",
      "2    1\n",
      "3    1\n",
      "4    1\n",
      "Name: Temperature, dtype: int64\n"
     ]
    }
   ],
   "source": [
    "print(Y.head())"
   ]
  },
  {
   "cell_type": "code",
   "execution_count": 14,
   "metadata": {},
   "outputs": [
    {
     "name": "stdout",
     "output_type": "stream",
     "text": [
      "0               Clear\n",
      "1    Partially cloudy\n",
      "2    Partially cloudy\n",
      "3            Overcast\n",
      "4            Overcast\n",
      "Name: Conditions, dtype: object\n"
     ]
    }
   ],
   "source": [
    "print(X['Conditions'].head())"
   ]
  },
  {
   "cell_type": "code",
   "execution_count": 15,
   "metadata": {},
   "outputs": [
    {
     "name": "stdout",
     "output_type": "stream",
     "text": [
      "   Clear  Overcast  Partially cloudy\n",
      "0      1         0                 0\n",
      "1      0         0                 1\n",
      "2      0         0                 1\n",
      "3      0         1                 0\n",
      "4      0         1                 0\n"
     ]
    }
   ],
   "source": [
    "print(pd.get_dummies(X['Conditions']).head())"
   ]
  },
  {
   "cell_type": "code",
   "execution_count": 16,
   "metadata": {},
   "outputs": [
    {
     "name": "stdout",
     "output_type": "stream",
     "text": [
      "Clear               18\n",
      "Partially cloudy     4\n",
      "Overcast             2\n",
      "Name: Conditions, dtype: int64\n"
     ]
    }
   ],
   "source": [
    "print(X['Conditions'].value_counts().sort_values(ascending=False).head(10))"
   ]
  },
  {
   "cell_type": "code",
   "execution_count": 17,
   "metadata": {},
   "outputs": [
    {
     "name": "stdout",
     "output_type": "stream",
     "text": [
      "Clear    18\n",
      "Other     6\n",
      "Name: Conditions, dtype: int64\n"
     ]
    }
   ],
   "source": [
    "X['Conditions'] = ['Clear' if x == 'Clear' else 'Other' for x in X['Conditions']]\n",
    "print(X['Conditions'].value_counts().sort_values(ascending=False))\n"
   ]
  },
  {
   "cell_type": "code",
   "execution_count": 18,
   "metadata": {},
   "outputs": [
    {
     "data": {
      "text/plain": [
       "Conditions           0\n",
       "Relative_Humidity    0\n",
       "Cloud_Cover          0\n",
       "Wind_Direction       0\n",
       "Wind_Speed           0\n",
       "dtype: int64"
      ]
     },
     "execution_count": 18,
     "metadata": {},
     "output_type": "execute_result"
    }
   ],
   "source": [
    "X.isnull().sum().sort_values(ascending=False).head()"
   ]
  },
  {
   "cell_type": "markdown",
   "metadata": {},
   "source": [
    "Outliers"
   ]
  },
  {
   "cell_type": "code",
   "execution_count": 19,
   "metadata": {},
   "outputs": [
    {
     "name": "stderr",
     "output_type": "stream",
     "text": [
      "C:\\ProgramData\\Anaconda3\\lib\\site-packages\\seaborn\\_decorators.py:36: FutureWarning: Pass the following variable as a keyword arg: x. From version 0.12, the only valid positional argument will be `data`, and passing other arguments without an explicit keyword will result in an error or misinterpretation.\n",
      "  warnings.warn(\n"
     ]
    },
    {
     "data": {
      "text/plain": [
       "<AxesSubplot:xlabel='Temperature', ylabel='count'>"
      ]
     },
     "execution_count": 19,
     "metadata": {},
     "output_type": "execute_result"
    },
    {
     "data": {
      "image/png": "[encoded data removed]",
      "text/plain": [
       "<Figure size 432x288 with 1 Axes>"
      ]
     },
     "metadata": {
      "needs_background": "light"
     },
     "output_type": "display_data"
    }
   ],
   "source": [
    "sns.countplot(\"Temperature\",hue='Date',data=df)"
   ]
  },
  {
   "cell_type": "code",
   "execution_count": 20,
   "metadata": {},
   "outputs": [
    {
     "name": "stderr",
     "output_type": "stream",
     "text": [
      "C:\\ProgramData\\Anaconda3\\lib\\site-packages\\seaborn\\_decorators.py:36: FutureWarning: Pass the following variable as a keyword arg: x. From version 0.12, the only valid positional argument will be `data`, and passing other arguments without an explicit keyword will result in an error or misinterpretation.\n",
      "  warnings.warn(\n"
     ]
    },
    {
     "data": {
      "text/plain": [
       "<AxesSubplot:xlabel='Wind_Speed', ylabel='count'>"
      ]
     },
     "execution_count": 20,
     "metadata": {},
     "output_type": "execute_result"
    },
    {
     "data": {
      "image/png": "[encoded data removed]",
      "text/plain": [
       "<Figure size 432x288 with 1 Axes>"
      ]
     },
     "metadata": {
      "needs_background": "light"
     },
     "output_type": "display_data"
    }
   ],
   "source": [
    "sns.countplot(\"Wind_Speed\",hue=\"Date\",data=df)"
   ]
  },
  {
   "cell_type": "code",
   "execution_count": 21,
   "metadata": {},
   "outputs": [
    {
     "name": "stderr",
     "output_type": "stream",
     "text": [
      "C:\\ProgramData\\Anaconda3\\lib\\site-packages\\seaborn\\_decorators.py:36: FutureWarning: Pass the following variable as a keyword arg: x. From version 0.12, the only valid positional argument will be `data`, and passing other arguments without an explicit keyword will result in an error or misinterpretation.\n",
      "  warnings.warn(\n"
     ]
    },
    {
     "data": {
      "text/plain": [
       "<AxesSubplot:xlabel='Wind_Direction', ylabel='count'>"
      ]
     },
     "execution_count": 21,
     "metadata": {},
     "output_type": "execute_result"
    },
    {
     "data": {
      "image/png": "[encoded data removed]",
      "text/plain": [
       "<Figure size 432x288 with 1 Axes>"
      ]
     },
     "metadata": {
      "needs_background": "light"
     },
     "output_type": "display_data"
    }
   ],
   "source": [
    "sns.countplot(\"Wind_Direction\",hue='Date',data=df)"
   ]
  },
  {
   "cell_type": "code",
   "execution_count": 22,
   "metadata": {},
   "outputs": [
    {
     "data": {
      "text/plain": [
       "<seaborn.axisgrid.PairGrid at 0x2801d11aa90>"
      ]
     },
     "execution_count": 22,
     "metadata": {},
     "output_type": "execute_result"
    },
    {
     "data": {
      "image/png": "[encoded data removed]",
      "text/plain": [
       "<Figure size 1260x1260 with 56 Axes>"
      ]
     },
     "metadata": {
      "needs_background": "light"
     },
     "output_type": "display_data"
    }
   ],
   "source": [
    "sns.pairplot(df)"
   ]
  },
  {
   "cell_type": "code",
   "execution_count": 26,
   "metadata": {},
   "outputs": [
    {
     "name": "stderr",
     "output_type": "stream",
     "text": [
      "C:\\ProgramData\\Anaconda3\\lib\\site-packages\\seaborn\\_decorators.py:36: FutureWarning: Pass the following variables as keyword args: x, y. From version 0.12, the only valid positional argument will be `data`, and passing other arguments without an explicit keyword will result in an error or misinterpretation.\n",
      "  warnings.warn(\n"
     ]
    },
    {
     "data": {
      "image/png": "[encoded data removed]",
      "text/plain": [
       "<Figure size 720x360 with 1 Axes>"
      ]
     },
     "metadata": {
      "needs_background": "light"
     },
     "output_type": "display_data"
    }
   ],
   "source": [
    "plt.figure(figsize=(10,5))\n",
    "x = df['Conditions'].value_counts().values[:25]\n",
    "y = df['Conditions'].value_counts().index[:25]\n",
    "sns.barplot(y,x)\n",
    "plt.xticks(rotation=90)\n",
    "plt.show()"
   ]
  },
  {
   "cell_type": "code",
   "execution_count": 27,
   "metadata": {},
   "outputs": [
    {
     "data": {
      "image/png": "[encoded data removed]",
      "text/plain": [
       "<Figure size 864x432 with 1 Axes>"
      ]
     },
     "metadata": {
      "needs_background": "light"
     },
     "output_type": "display_data"
    }
   ],
   "source": [
    "plt.figure(figsize=(12,6))\n",
    "df.groupby('Conditions')['Wind_Speed'].sum().sort_values(ascending=False).head(20).plot(kind='bar')\n",
    "plt.xticks(rotation=90)\n",
    "plt.show()"
   ]
  },
  {
   "cell_type": "code",
   "execution_count": null,
   "metadata": {},
   "outputs": [],
   "source": []
  }
 ],
 "metadata": {
  "kernelspec": {
   "display_name": "Python 3",
   "language": "python",
   "name": "python3"
  },
  "language_info": {
   "codemirror_mode": {
    "name": "ipython",
    "version": 3
   },
   "file_extension": ".py",
   "mimetype": "text/x-python",
   "name": "python",
   "nbconvert_exporter": "python",
   "pygments_lexer": "ipython3",
   "version": "3.8.5"
  }
 },
 "nbformat": 4,
 "nbformat_minor": 4
}
